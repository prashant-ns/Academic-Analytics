{
 "cells": [
  {
   "cell_type": "code",
   "execution_count": 52,
   "metadata": {},
   "outputs": [],
   "source": [
    "import os\n",
    "import pandas as pd\n",
    "\n",
    "os.chdir(r\"/Users/prashntshukla/Desktop/HGE-take-home-test/data\")"
   ]
  },
  {
   "cell_type": "code",
   "execution_count": 53,
   "metadata": {},
   "outputs": [],
   "source": [
    "students = pd.read_csv (r'/Users/prashntshukla/Desktop/HGE-take-home-test/data/students.csv')\n",
    "students=pd.DataFrame(data=students)\n",
    "students['firstName'] = [x.lower() for x in students['firstName']]\n"
   ]
  },
  {
   "cell_type": "code",
   "execution_count": 54,
   "metadata": {},
   "outputs": [
    {
     "name": "stdout",
     "output_type": "stream",
     "text": [
      "              Teacher    Class studentName test0 test1 test2 test3 test4  \\\n",
      "0   Alexander Coleman  class96     clinton     c     c     b     b   NaN   \n",
      "1   Alexander Coleman  class96     patrick     f     f     f     b     c   \n",
      "2   Alexander Coleman  class96     jeffrey     f     f     d     a     d   \n",
      "3   Alexander Coleman  class96     kristen     b     c     c     a     a   \n",
      "4   Alexander Coleman  class96     mcheial     f     b     d     a     f   \n",
      "..                ...      ...         ...   ...   ...   ...   ...   ...   \n",
      "16       Cory Vaughan  class75       marie     c     c     d     f     c   \n",
      "17       Cory Vaughan  class75  alexandria     d     b     b   NaN   NaN   \n",
      "18       Cory Vaughan  class75       dvoen     c     d     b     f     d   \n",
      "19       Cory Vaughan  class75       tommy     f     c     c     f     b   \n",
      "20       Cory Vaughan  class75         ann     a     b     b     b     d   \n",
      "\n",
      "   test5 test6 test7 test8 test9  \n",
      "0    NaN   NaN   NaN   NaN   NaN  \n",
      "1      b     c     c   NaN   NaN  \n",
      "2      b     d     a   NaN   NaN  \n",
      "3      f     d   NaN   NaN   NaN  \n",
      "4    NaN   NaN   NaN   NaN   NaN  \n",
      "..   ...   ...   ...   ...   ...  \n",
      "16     a     b     d   NaN   NaN  \n",
      "17   NaN   NaN   NaN   NaN   NaN  \n",
      "18     f     b     b     c     f  \n",
      "19     a     b   NaN   NaN   NaN  \n",
      "20   NaN   NaN   NaN   NaN   NaN  \n",
      "\n",
      "[2201 rows x 13 columns]\n"
     ]
    }
   ],
   "source": [
    "import glob\n",
    "import pandas as pd\n",
    "\n",
    "merge_data = []\n",
    "\n",
    "\n",
    "path = 'grades/' # use your path\n",
    "#print(path)\n",
    "all_files = glob.glob(path + \"*/*.csv\")\n",
    "#print(all_files)\n",
    "\n",
    "lst = list(range(0, len(all_files)))\n",
    "\n",
    "lst2 = [str(i) for i in lst]\n",
    "\n",
    "lst3 = sorted(lst2)\n",
    "count=0\n",
    "\n",
    "for filename in all_files:\n",
    "\n",
    "    df = pd.read_csv(filename, index_col=None, header=0)\n",
    "        \n",
    "    head_tail = os.path.split(filename)\n",
    "    a=head_tail[0]\n",
    "    a=a.split(\"/\")\n",
    "    #print(a)\n",
    "    a=a[1]\n",
    "    b=head_tail[1]\n",
    "    b=b.split(\".\")\n",
    "    #print(b)\n",
    "    b=b[0]\n",
    "    df[\"Teacher\"]=a\n",
    "\n",
    "    df[\"Class\"]= b\n",
    "    g=len(df)\n",
    "    #print(len(df))\n",
    "    \n",
    "    #print(type(df))\n",
    "        \n",
    "    #count=count+g\n",
    "    #merge_data.append(df)\n",
    "  \n",
    "    #df2 = pd.DataFrame(df,columns=[\"studentName\", \"test0\", \"test1\", \"test2\",\"test3\",\"test4\",\"test5\", \"test6\", \"test7\", \"test8\",\"test9\",\"Teacher\", \"Class\"])\n",
    "  \n",
    "    merge_data.append(df)\n",
    "#print(merge_data)\n",
    "\n",
    "final_data = pd.concat(merge_data)\n",
    "final_data=final_data[[\"Teacher\", \"Class\",\"studentName\", \"test0\", \"test1\", \"test2\",\"test3\",\"test4\",\"test5\", \"test6\", \"test7\", \"test8\",\"test9\"]]\n",
    "final_data['studentName']= final_data['studentName'].str.split().str[-0]  \n",
    "final_data['studentName'] = [x.lower() for x in final_data['studentName']]\n",
    "print(final_data)\n"
   ]
  },
  {
   "cell_type": "code",
   "execution_count": 55,
   "metadata": {},
   "outputs": [],
   "source": [
    "final_data.to_csv(r'/Users/prashntshukla/Desktop/HGE-take-home-test/data/final_kn.csv')"
   ]
  },
  {
   "cell_type": "code",
   "execution_count": 56,
   "metadata": {},
   "outputs": [
    {
     "name": "stdout",
     "output_type": "stream",
     "text": [
      "300\n",
      "2201\n"
     ]
    }
   ],
   "source": [
    "jum=final_data['studentName']\n",
    "real=students['firstName']\n",
    "print(len(real))\n",
    "print(len(jum))\n",
    "\n"
   ]
  },
  {
   "cell_type": "code",
   "execution_count": 57,
   "metadata": {},
   "outputs": [],
   "source": [
    "correct_name=[]\n",
    "for i in jum:\n",
    "    k=0\n",
    "    #print(i)\n",
    "    l=list(i)\n",
    "    l.sort()\n",
    "    for j in real:\n",
    "        #print(j)\n",
    "        m=list(j)\n",
    "        m.sort()\n",
    "        if l == m:\n",
    "            i=j\n",
    "            correct_name.append(i)\n",
    "            "
   ]
  },
  {
   "cell_type": "code",
   "execution_count": 58,
   "metadata": {},
   "outputs": [
    {
     "data": {
      "text/plain": [
       "2201"
      ]
     },
     "execution_count": 58,
     "metadata": {},
     "output_type": "execute_result"
    }
   ],
   "source": [
    "len(correct_name)"
   ]
  },
  {
   "cell_type": "code",
   "execution_count": 38,
   "metadata": {},
   "outputs": [],
   "source": [
    "dd=pd.DataFrame(correct_name)\n",
    "dd.to_csv(r'/Users/prashntshukla/Desktop/HGE-take-home-test/data/dddd.csv')"
   ]
  },
  {
   "cell_type": "code",
   "execution_count": 26,
   "metadata": {},
   "outputs": [],
   "source": [
    "final_data['studentName']=correct_name\n",
    "final_data.to_csv(r'Python_merge.csv', index = False)"
   ]
  },
  {
   "cell_type": "code",
   "execution_count": 9,
   "metadata": {},
   "outputs": [
    {
     "data": {
      "text/plain": [
       "300"
      ]
     },
     "execution_count": 9,
     "metadata": {},
     "output_type": "execute_result"
    }
   ],
   "source": [
    "len(final_data.studentName.unique())\n"
   ]
  },
  {
   "cell_type": "code",
   "execution_count": 89,
   "metadata": {},
   "outputs": [],
   "source": [
    "nn=final_data[[\"test0\", \"test1\", \"test2\",\"test3\",\"test4\",\"test5\", \"test6\", \"test7\", \"test8\",\"test9\"]]"
   ]
  },
  {
   "cell_type": "code",
   "execution_count": 102,
   "metadata": {},
   "outputs": [
    {
     "data": {
      "text/plain": [
       "2201"
      ]
     },
     "execution_count": 102,
     "metadata": {},
     "output_type": "execute_result"
    }
   ],
   "source": [
    "nn1=final_data[[\"Teacher\", \"Class\",\"studentName\"]]\n",
    "len(nn1)"
   ]
  },
  {
   "cell_type": "code",
   "execution_count": 103,
   "metadata": {},
   "outputs": [
    {
     "name": "stderr",
     "output_type": "stream",
     "text": [
      "/Users/prashntshukla/opt/anaconda3/lib/python3.7/site-packages/ipykernel_launcher.py:1: SettingWithCopyWarning: \n",
      "A value is trying to be set on a copy of a slice from a DataFrame.\n",
      "Try using .loc[row_indexer,col_indexer] = value instead\n",
      "\n",
      "See the caveats in the documentation: http://pandas.pydata.org/pandas-docs/stable/user_guide/indexing.html#returning-a-view-versus-a-copy\n",
      "  \"\"\"Entry point for launching an IPython kernel.\n"
     ]
    }
   ],
   "source": [
    "df2=nn.unstack()\n",
    "df2.reset_index()"
   ]
  },
  {
   "cell_type": "code",
   "execution_count": null,
   "metadata": {},
   "outputs": [],
   "source": []
  },
  {
   "cell_type": "code",
   "execution_count": null,
   "metadata": {},
   "outputs": [],
   "source": [
    "\n"
   ]
  },
  {
   "cell_type": "code",
   "execution_count": null,
   "metadata": {},
   "outputs": [],
   "source": []
  },
  {
   "cell_type": "code",
   "execution_count": null,
   "metadata": {},
   "outputs": [],
   "source": []
  },
  {
   "cell_type": "code",
   "execution_count": null,
   "metadata": {},
   "outputs": [],
   "source": []
  },
  {
   "cell_type": "code",
   "execution_count": null,
   "metadata": {},
   "outputs": [],
   "source": []
  },
  {
   "cell_type": "code",
   "execution_count": null,
   "metadata": {},
   "outputs": [],
   "source": []
  }
 ],
 "metadata": {
  "kernelspec": {
   "display_name": "Python 3",
   "language": "python",
   "name": "python3"
  },
  "language_info": {
   "codemirror_mode": {
    "name": "ipython",
    "version": 3
   },
   "file_extension": ".py",
   "mimetype": "text/x-python",
   "name": "python",
   "nbconvert_exporter": "python",
   "pygments_lexer": "ipython3",
   "version": "3.7.4"
  }
 },
 "nbformat": 4,
 "nbformat_minor": 2
}
